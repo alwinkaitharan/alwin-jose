{
  "nbformat": 4,
  "nbformat_minor": 0,
  "metadata": {
    "colab": {
      "provenance": [],
      "authorship_tag": "ABX9TyOstmAxbwyh70TGbgz0aV4r",
      "include_colab_link": true
    },
    "kernelspec": {
      "name": "python3",
      "display_name": "Python 3"
    },
    "language_info": {
      "name": "python"
    }
  },
  "cells": [
    {
      "cell_type": "markdown",
      "metadata": {
        "id": "view-in-github",
        "colab_type": "text"
      },
      "source": [
        "<a href=\"https://colab.research.google.com/github/alwinkaitharan/alwin-jose/blob/main/Untitled11.ipynb\" target=\"_parent\"><img src=\"https://colab.research.google.com/assets/colab-badge.svg\" alt=\"Open In Colab\"/></a>"
      ]
    },
    {
      "cell_type": "code",
      "execution_count": null,
      "metadata": {
        "colab": {
          "base_uri": "https://localhost:8080/"
        },
        "id": "9WncPhOBs_Gm",
        "outputId": "c29bac52-bc7e-4add-dceb-71cddee21313"
      },
      "outputs": [
        {
          "output_type": "stream",
          "name": "stdout",
          "text": [
            "fifa world cup\n"
          ]
        }
      ],
      "source": [
        "def alwin():\n",
        " print(\"fifa world cup\")\n",
        "alwin()"
      ]
    },
    {
      "cell_type": "code",
      "source": [
        "def yoyo(a,b,c):\n",
        "  print(a,b,c)\n",
        "\n",
        "yoyo('Anna','aby','sai')"
      ],
      "metadata": {
        "colab": {
          "base_uri": "https://localhost:8080/"
        },
        "id": "VrunKvfMvd1g",
        "outputId": "ea7e9a15-50f7-44e2-9aef-2997d7fa0d70"
      },
      "execution_count": null,
      "outputs": [
        {
          "output_type": "stream",
          "name": "stdout",
          "text": [
            "Anna aby sai\n"
          ]
        }
      ]
    },
    {
      "cell_type": "code",
      "source": [
        "def yoyo(a,b,c):\n",
        "  print(c,b,a)\n",
        "\n",
        "yoyo(c='Anna',b='aby',a='sai')"
      ],
      "metadata": {
        "colab": {
          "base_uri": "https://localhost:8080/"
        },
        "outputId": "1c283a8e-d121-4472-ca7b-0430c35e7d42",
        "id": "i8znKEVwxyCv"
      },
      "execution_count": null,
      "outputs": [
        {
          "output_type": "stream",
          "name": "stdout",
          "text": [
            "Anna aby sai\n"
          ]
        }
      ]
    },
    {
      "cell_type": "code",
      "source": [
        "def fav(*x):\n",
        "  print('second fav football player',x[1])\n",
        "fav('rolando','messi','neymer','mbappe')"
      ],
      "metadata": {
        "colab": {
          "base_uri": "https://localhost:8080/"
        },
        "id": "qruta2bRx1CE",
        "outputId": "42bfe1a5-7a5d-4094-abf8-554ef43460e5"
      },
      "execution_count": null,
      "outputs": [
        {
          "output_type": "stream",
          "name": "stdout",
          "text": [
            "second fav football player messi\n"
          ]
        }
      ]
    },
    {
      "cell_type": "code",
      "source": [
        "def fun_name(country=\"mexico\"):\n",
        "  print(\"i am from\"+country)\n",
        "\n",
        "fun_name(\"sweden\")\n",
        "fun_name(\"india\")\n",
        "fun_name()\n",
        "fun_name(\"argentina\")"
      ],
      "metadata": {
        "colab": {
          "base_uri": "https://localhost:8080/"
        },
        "id": "5BhqqdpW1one",
        "outputId": "4496c1f3-575d-4c7e-e865-5d51a744b32f"
      },
      "execution_count": null,
      "outputs": [
        {
          "output_type": "stream",
          "name": "stdout",
          "text": [
            "i am fromsweden\n",
            "i am fromindia\n",
            "i am frommexico\n",
            "i am fromargentina\n"
          ]
        }
      ]
    },
    {
      "cell_type": "code",
      "source": [],
      "metadata": {
        "id": "uFQGNyb73TkQ"
      },
      "execution_count": null,
      "outputs": []
    }
  ]
}